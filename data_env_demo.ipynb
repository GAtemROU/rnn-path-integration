{
 "cells": [
  {
   "cell_type": "code",
   "execution_count": null,
   "id": "80d343fb",
   "metadata": {},
   "outputs": [],
   "source": [
    "from data_generation.Environment import Environment\n",
    "env = Environment(3, 1, 1)\n",
    "env.visualize(True)"
   ]
  },
  {
   "cell_type": "code",
   "execution_count": null,
   "id": "902f110d",
   "metadata": {},
   "outputs": [],
   "source": [
    "from data_generation.Agent import Agent\n",
    "\n",
    "agent = Agent(env, kappa=10)\n",
    "for _ in range(50):\n",
    "    agent.step(1)\n",
    "agent.visualize_path()\n",
    "agent.get_data()"
   ]
  }
 ],
 "metadata": {
  "kernelspec": {
   "display_name": "ml2024",
   "language": "python",
   "name": "python3"
  },
  "language_info": {
   "codemirror_mode": {
    "name": "ipython",
    "version": 3
   },
   "file_extension": ".py",
   "mimetype": "text/x-python",
   "name": "python",
   "nbconvert_exporter": "python",
   "pygments_lexer": "ipython3",
   "version": "3.12.3"
  }
 },
 "nbformat": 4,
 "nbformat_minor": 5
}
