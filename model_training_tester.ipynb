{
 "cells": [
  {
   "cell_type": "code",
   "execution_count": null,
   "id": "f35849ec",
   "metadata": {},
   "outputs": [],
   "source": [
    "from model_training.Model import RNNModel\n",
    "from model_training.Trainer import RNNTrainer\n",
    "from model_training.Dataset import NavigationDataset\n",
    "import torch\n",
    "import pandas as pd\n",
    "from data_generation.Environment import Environment\n",
    "from data_generation.Agent import Agent\n",
    "import matplotlib.pyplot as plt\n",
    "import pickle"
   ]
  },
  {
   "cell_type": "code",
   "execution_count": null,
   "id": "9e4d436c",
   "metadata": {},
   "outputs": [],
   "source": [
    "data = pd.read_csv(\"data/triangle_data1000_50steps.csv\")\n",
    "device = \"cuda\" if torch.cuda.is_available() else \"cpu\"\n",
    "dataset = NavigationDataset(data)\n",
    "dataloader = dataset.get_dataloader(batch_size=64, shuffle=True)\n",
    "dataloader_iter = iter(dataloader)\n",
    "model = RNNModel(device=device)\n",
    "model.to(device)\n",
    "batch = next(dataloader_iter)\n",
    "trainer = RNNTrainer(model, device=device)\n",
    "trainer.train(dataloader, n_epochs=1000, verbose=True)\n",
    "model.to(\"cpu\")\n",
    "with open(\"models/rnn_model.pkl\", \"wb\") as f:\n",
    "    pickle.dump(model, f)"
   ]
  },
  {
   "cell_type": "code",
   "execution_count": null,
   "id": "0f7c99c7",
   "metadata": {},
   "outputs": [],
   "source": [
    "model.to(\"cpu\")\n",
    "with open(\"models/rnn_model.pkl\", \"wb\") as f:\n",
    "    pickle.dump(model, f)"
   ]
  },
  {
   "cell_type": "code",
   "execution_count": null,
   "id": "32cb22dc",
   "metadata": {},
   "outputs": [],
   "source": [
    "\n",
    "# training_data = pd.read_csv(\"data/triangle_env_data.csv\")\n",
    "# training_data = NavigationDataset(training_data)\n",
    "with open(\"models/rnn_model.pkl\", \"rb\") as f:\n",
    "    model = pickle.load(f)\n",
    "env = Environment(3, 1, 1)\n",
    "agent = Agent(env, kappa=10)\n",
    "for _ in range(51):\n",
    "    agent.step(1)\n",
    "\n",
    "path = agent.get_data()\n",
    "# print(path.head())\n",
    "path['run_id'] = 0\n",
    "data = NavigationDataset(path)\n",
    "\n",
    "# training_data_loader = training_data.get_dataloader(batch_size=1, shuffle=True)\n",
    "dataloader = data.get_dataloader(batch_size=1)\n",
    "\n",
    "model.to(\"cpu\")\n",
    "model.device = \"cpu\"\n",
    "# predict the sample data\n",
    "model.eval()\n",
    "outputs = []\n",
    "activations = []\n",
    "with torch.no_grad():\n",
    "    for batch in dataloader:\n",
    "        X, Y, lengths, run_ids = batch\n",
    "        X = X[0]\n",
    "        Y = Y[0]\n",
    "        lengths = lengths[0]\n",
    "        activations, outputs = model(X, lengths)\n",
    "        break\n",
    "\n",
    "print(activations.shape)\n",
    "agent.visualize_path()\n",
    "# visualize the true path and predicted path\n",
    "\n",
    "pred_path = outputs.numpy()\n",
    "true_path = Y.numpy()\n",
    "plt.figure(figsize=(12, 6))\n",
    "plt.scatter(pred_path[0, 0], pred_path[0, 1], color='green', label='Start')\n",
    "plt.plot(true_path[:, 0], true_path[:, 1], label='True Path', color='blue', linestyle='--')\n",
    "plt.scatter(true_path[1:, 0], true_path[1:, 1], color='blue', s=15)\n",
    "plt.plot(pred_path[:, 0], pred_path[:, 1], label='Predicted Path', color='orange')\n",
    "plt.scatter(pred_path[1:, 0], pred_path[1:, 1], color='orange', s=15)\n",
    "plt.scatter(pred_path[-1, 0], pred_path[-1, 1], color='red')\n",
    "plt.scatter(true_path[-1, 0], true_path[-1, 1], color='red')\n",
    "plt.title('Predicted Path by RNN Model')\n",
    "plt.xlabel('X Position')\n",
    "plt.ylabel('Y Position')\n",
    "plt.legend()\n",
    "\n"
   ]
  }
 ],
 "metadata": {
  "kernelspec": {
   "display_name": "thesis",
   "language": "python",
   "name": "python3"
  },
  "language_info": {
   "codemirror_mode": {
    "name": "ipython",
    "version": 3
   },
   "file_extension": ".py",
   "mimetype": "text/x-python",
   "name": "python",
   "nbconvert_exporter": "python",
   "pygments_lexer": "ipython3",
   "version": "3.12.10"
  }
 },
 "nbformat": 4,
 "nbformat_minor": 5
}
