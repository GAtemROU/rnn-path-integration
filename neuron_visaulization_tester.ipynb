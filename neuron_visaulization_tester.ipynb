{
 "cells": [
  {
   "cell_type": "code",
   "execution_count": 1,
   "id": "f29b1a1d",
   "metadata": {},
   "outputs": [
    {
     "name": "stdout",
     "output_type": "stream",
     "text": [
      "(71, 11)\n"
     ]
    },
    {
     "name": "stderr",
     "output_type": "stream",
     "text": [
      "100%|██████████| 2/2 [00:00<00:00, 72.69it/s]\n"
     ]
    }
   ],
   "source": [
    "import pickle\n",
    "from neuron_visualization.NeuronVisualizer import NeuronVisualizer\n",
    "import pandas as pd\n",
    "\n",
    "with open(\"models/triangle_rnn_model.pkl\", \"rb\") as f:\n",
    "    model = pickle.load(f)\n",
    "model.set_device(\"cpu\")\n",
    "visualizer = NeuronVisualizer(model)\n",
    "data = pd.read_csv(\"data/triangle_env_data.csv\")\n",
    "data = data[data['run_id'].isin([0, 1])]\n",
    "print(data.shape)\n",
    "visualizer.retrieve_activations(data, use_predicted=True)\n"
   ]
  },
  {
   "cell_type": "code",
   "execution_count": null,
   "id": "f7694e8f",
   "metadata": {},
   "outputs": [
    {
     "ename": "AttributeError",
     "evalue": "'str' object has no attribute 'write'",
     "output_type": "error",
     "traceback": [
      "\u001b[1;31m---------------------------------------------------------------------------\u001b[0m",
      "\u001b[1;31mAttributeError\u001b[0m                            Traceback (most recent call last)",
      "Cell \u001b[1;32mIn[3], line 2\u001b[0m\n\u001b[0;32m      1\u001b[0m maps \u001b[38;5;241m=\u001b[39m visualizer\u001b[38;5;241m.\u001b[39mget_spatial_maps()\n\u001b[1;32m----> 2\u001b[0m \u001b[38;5;28;43mprint\u001b[39;49m\u001b[43m(\u001b[49m\u001b[43mvisualizer\u001b[49m\u001b[38;5;241;43m.\u001b[39;49m\u001b[43mcompute_cos_sim_on_maps\u001b[49m\u001b[43m(\u001b[49m\u001b[43mmaps\u001b[49m\u001b[43m)\u001b[49m\u001b[43m,\u001b[49m\u001b[43m \u001b[49m\u001b[43mfile\u001b[49m\u001b[38;5;241;43m=\u001b[39;49m\u001b[38;5;124;43m\"\u001b[39;49m\u001b[38;5;124;43mcos_sim.txt\u001b[39;49m\u001b[38;5;124;43m\"\u001b[39;49m\u001b[43m)\u001b[49m\n",
      "\u001b[1;31mAttributeError\u001b[0m: 'str' object has no attribute 'write'"
     ]
    }
   ],
   "source": [
    "maps = visualizer.get_spatial_maps()\n",
    "print(visualizer.compute_cos_sim_on_maps(maps))"
   ]
  }
 ],
 "metadata": {
  "kernelspec": {
   "display_name": "thesis",
   "language": "python",
   "name": "python3"
  },
  "language_info": {
   "codemirror_mode": {
    "name": "ipython",
    "version": 3
   },
   "file_extension": ".py",
   "mimetype": "text/x-python",
   "name": "python",
   "nbconvert_exporter": "python",
   "pygments_lexer": "ipython3",
   "version": "3.12.10"
  }
 },
 "nbformat": 4,
 "nbformat_minor": 5
}
