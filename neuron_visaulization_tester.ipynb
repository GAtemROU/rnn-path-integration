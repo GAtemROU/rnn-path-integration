{
 "cells": [
  {
   "cell_type": "code",
   "execution_count": null,
   "id": "f29b1a1d",
   "metadata": {},
   "outputs": [],
   "source": [
    "import pickle\n",
    "from neuron_visualization.NeuronVisualizer import NeuronVisualizer\n",
    "import pandas as pd\n",
    "\n",
    "with open(\"models/triangle_rnn_model.pkl\", \"rb\") as f:\n",
    "    model = pickle.load(f)\n",
    "model.set_device(\"cpu\")\n",
    "visualizer = NeuronVisualizer(model)\n",
    "data = pd.read_csv(\"data/triangle_data1000_50steps.csv\")\n",
    "# data = data[data['run_id'].isin([0, 1])]\n",
    "print(data.shape)\n",
    "visualizer.retrieve_activations(data, use_predicted=True)\n"
   ]
  },
  {
   "cell_type": "code",
   "execution_count": null,
   "id": "f7694e8f",
   "metadata": {},
   "outputs": [],
   "source": [
    "from matplotlib import pyplot as plt\n",
    "import numpy as np\n",
    "maps = visualizer.get_spatial_maps(absolute=True)\n",
    "cos_sims = visualizer.compute_cos_sim_on_maps(maps)\n",
    "# plt.imshow(cos_sims, cmap='bwr', vmin=-1, vmax=1)\n",
    "# plt.colorbar()\n",
    "# plt.title(\"Cosine similarity between spatial maps of different neurons\")\n",
    "# plt.show()\n",
    "import seaborn as sns\n",
    "import scipy.cluster.hierarchy as sch\n",
    "\n",
    "linkage = sch.linkage(1 - cos_sims, method='ward')\n",
    "sns.clustermap(cos_sims, row_linkage=linkage, col_linkage=linkage, cmap='coolwarm', center=0)"
   ]
  },
  {
   "cell_type": "code",
   "execution_count": null,
   "id": "fee900bf",
   "metadata": {},
   "outputs": [],
   "source": [
    "for i in range(visualizer.model.N):\n",
    "    visualizer.plot_hist(maps[i])"
   ]
  }
 ],
 "metadata": {
  "kernelspec": {
   "display_name": "thesis",
   "language": "python",
   "name": "python3"
  },
  "language_info": {
   "codemirror_mode": {
    "name": "ipython",
    "version": 3
   },
   "file_extension": ".py",
   "mimetype": "text/x-python",
   "name": "python",
   "nbconvert_exporter": "python",
   "pygments_lexer": "ipython3",
   "version": "3.12.10"
  }
 },
 "nbformat": 4,
 "nbformat_minor": 5
}
