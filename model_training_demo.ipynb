{
 "cells": [
  {
   "cell_type": "code",
   "execution_count": null,
   "id": "f35849ec",
   "metadata": {},
   "outputs": [],
   "source": [
    "from model_training.Model import RNNModel\n",
    "from model_training.Trainer import RNNTrainer\n",
    "from model_training.Dataset import NavigationDataset\n",
    "import torch\n",
    "import pandas as pd\n",
    "from data_generation.Environment import Environment\n",
    "from data_generation.Agent import Agent\n",
    "import matplotlib.pyplot as plt\n",
    "import pickle"
   ]
  },
  {
   "cell_type": "code",
   "execution_count": null,
   "id": "9e4d436c",
   "metadata": {},
   "outputs": [],
   "source": [
    "data = pd.read_csv(\"data/square_1000traj_50steps.csv\")\n",
    "device = \"cuda\" if torch.cuda.is_available() else \"cpu\"\n",
    "dataset = NavigationDataset(data)\n",
    "dataloader = dataset.get_dataloader(batch_size=64, shuffle=True)\n",
    "dataloader_iter = iter(dataloader)\n",
    "# model = RNNModel(device=device)\n",
    "with open(\"models/rnn_sq_model.pkl\", \"rb\") as f:\n",
    "    model = pickle.load(f)\n",
    "model.to(device)\n",
    "trainer = RNNTrainer(model, device=device)\n",
    "trainer.train(dataloader, n_epochs=1000, verbose=True)\n",
    "model.to(\"cpu\")\n",
    "with open(\"models/rnn_sq_model.pkl\", \"wb\") as f:\n",
    "    pickle.dump(model, f)"
   ]
  },
  {
   "cell_type": "code",
   "execution_count": null,
   "id": "0f7c99c7",
   "metadata": {},
   "outputs": [],
   "source": [
    "with open(\"models/rnn_sq_model.pkl\", \"rb\") as f:\n",
    "    model = pickle.load(f)\n",
    "print(len(model.loss_history[0]))"
   ]
  },
  {
   "cell_type": "code",
   "execution_count": null,
   "id": "32cb22dc",
   "metadata": {},
   "outputs": [],
   "source": [
    "\n",
    "env_type = 'triangle'\n",
    "\n",
    "training_data = pd.read_csv(f\"data/{env_type}_1000traj_50steps.csv\")\n",
    "print(training_data[(training_data['step'] > 30) & (training_data['run_id'] > 50) & (training_data['collision'] == True) ].iloc[0])\n",
    "training_data = training_data[training_data['run_id'] == 54]\n",
    "training_data['run_id'] = 0\n",
    "training_data = NavigationDataset(training_data)\n",
    "with open(f\"models/rnn_{env_type[0:2]}_model.pkl\", \"rb\") as f:\n",
    "    model = pickle.load(f)\n",
    "\n",
    "\n",
    "training_data_loader = training_data.get_dataloader(batch_size=1, shuffle=True)\n",
    "\n",
    "model.to(\"cpu\")\n",
    "model.device = \"cpu\"\n",
    "# predict the sample data\n",
    "model.eval()\n",
    "outputs = []\n",
    "activations = []\n",
    "with torch.no_grad():\n",
    "    for batch in training_data_loader:\n",
    "        X, Y, lengths, run_ids = batch\n",
    "        X = X[0]\n",
    "        Y = Y[0]\n",
    "        lengths = lengths[0]\n",
    "        activations, outputs = model(X, lengths)\n",
    "        break\n",
    "\n",
    "print(activations.shape)\n",
    "# agent.visualize_path()\n",
    "# visualize the true path and predicted path\n",
    "\n",
    "env = Environment(3 if env_type == 'triangle' else 4, 1, 1)\n",
    "x, y = env.env.exterior.xy\n",
    "\n",
    "pred_path = outputs.numpy()\n",
    "true_path = Y.numpy()\n",
    "plt.figure(figsize=(6, 6))\n",
    "plt.fill(x, y, alpha=0.5, ec='black', label='Environment')\n",
    "plt.scatter(pred_path[0, 0], pred_path[0, 1], color='green', label='Start')\n",
    "plt.plot(true_path[:, 0], true_path[:, 1], label='True Path', color='green', linestyle='--')\n",
    "plt.scatter(true_path[1:, 0], true_path[1:, 1], color='green', s=15)\n",
    "plt.plot(pred_path[:, 0], pred_path[:, 1], label='Predicted Path', color='pink')\n",
    "plt.scatter(pred_path[1:, 0], pred_path[1:, 1], color='red', s=15)\n",
    "plt.scatter(pred_path[-1, 0], pred_path[-1, 1], color='red')\n",
    "plt.scatter(true_path[-1, 0], true_path[-1, 1], color='red')\n",
    "plt.title('Predicted Path by RNN Model')\n",
    "plt.xlabel('X Position')\n",
    "plt.ylabel('Y Position')\n",
    "plt.legend()\n",
    "plt.savefig(f'tex/figures/rnn_{env_type}_model_prediction_good.png')\n",
    "\n",
    "            "
   ]
  }
 ],
 "metadata": {
  "kernelspec": {
   "display_name": "ml2024",
   "language": "python",
   "name": "python3"
  },
  "language_info": {
   "codemirror_mode": {
    "name": "ipython",
    "version": 3
   },
   "file_extension": ".py",
   "mimetype": "text/x-python",
   "name": "python",
   "nbconvert_exporter": "python",
   "pygments_lexer": "ipython3",
   "version": "3.12.3"
  }
 },
 "nbformat": 4,
 "nbformat_minor": 5
}
