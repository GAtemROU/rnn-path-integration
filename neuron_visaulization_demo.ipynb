{
 "cells": [
  {
   "cell_type": "code",
   "execution_count": null,
   "id": "f29b1a1d",
   "metadata": {},
   "outputs": [],
   "source": [
    "import pickle\n",
    "from neuron_visualization.NeuronVisualizer import NeuronVisualizer\n",
    "import pandas as pd\n",
    "\n",
    "env_type = \"triangle\"\n",
    "\n",
    "with open(f\"models/rnn_{env_type[0:2]}_model.pkl\", \"rb\") as f:\n",
    "    model = pickle.load(f)\n",
    "model.set_device(\"cpu\")\n",
    "visualizer = NeuronVisualizer(model)\n",
    "data = pd.read_csv(f\"data/{env_type}_1000traj_50steps.csv\")\n",
    "visualizer.retrieve_activations(data, use_predicted=True)"
   ]
  },
  {
   "cell_type": "code",
   "execution_count": null,
   "id": "f7694e8f",
   "metadata": {},
   "outputs": [],
   "source": [
    "from matplotlib import pyplot as plt\n",
    "import numpy as np\n",
    "from utils.plots import smart_subplots\n",
    "maps = visualizer.get_spatial_maps(absolute=False)\n",
    "cos_sims = visualizer.compute_cos_sim_on_maps(maps)\n",
    "\n",
    "import seaborn as sns\n",
    "import scipy.cluster.hierarchy as sch\n",
    "\n",
    "linkage = sch.linkage(1 - cos_sims, method='ward')\n",
    "sns.clustermap(cos_sims, row_linkage=linkage, col_linkage=linkage, cmap='coolwarm', center=0)\n",
    "\n",
    "# cluster the resulting cells into 5 clusters\n",
    "from sklearn.cluster import AgglomerativeClustering\n",
    "num_clusters = 5\n",
    "clustering = AgglomerativeClustering(n_clusters=num_clusters, linkage='average')\n",
    "labels = clustering.fit_predict(1 - cos_sims)\n",
    "for cluster_id in range(num_clusters):\n",
    "    cluster_indices = np.where(labels == cluster_id)[0]\n",
    "    print(f\"Cluster {cluster_id}: {cluster_indices}\")\n",
    "    fig, axes = smart_subplots(len(cluster_indices), 7)\n",
    "    axes = np.array(axes).ravel()\n",
    "    for ax in axes:\n",
    "        ax.set_xticks([])\n",
    "        ax.set_yticks([])\n",
    "        ax.set_xticklabels([])\n",
    "        ax.set_yticklabels([])\n",
    "    for i, neuron_idx in enumerate(cluster_indices):\n",
    "        axes[i].imshow(maps[neuron_idx], cmap='viridis', origin='lower')\n",
    "        axes[i].set_title(f'Neuron {neuron_idx}')\n",
    "    plt.suptitle(f'Spatial Maps for Cluster {cluster_id}')\n",
    "    plt.show()"
   ]
  },
  {
   "cell_type": "code",
   "execution_count": null,
   "id": "fee900bf",
   "metadata": {},
   "outputs": [],
   "source": [
    "import matplotlib.pyplot as plt\n",
    "from utils.plots import smart_subplots\n",
    "maps = visualizer.get_spatial_maps(absolute=False)\n",
    "fig, axes = smart_subplots(100, 10)\n",
    "for i, ax in enumerate(axes):\n",
    "    if i < maps.shape[0]:\n",
    "        ax.imshow(maps[i], cmap='viridis', origin='lower')\n",
    "    ax.axis('off')\n",
    "plt.savefig(f'tex/figures/rnn_{env_type}_neuron_spatial_maps.png', bbox_inches='tight')\n",
    "plt.show()"
   ]
  }
 ],
 "metadata": {
  "kernelspec": {
   "display_name": "ml2024",
   "language": "python",
   "name": "python3"
  },
  "language_info": {
   "codemirror_mode": {
    "name": "ipython",
    "version": 3
   },
   "file_extension": ".py",
   "mimetype": "text/x-python",
   "name": "python",
   "nbconvert_exporter": "python",
   "pygments_lexer": "ipython3",
   "version": "3.12.3"
  }
 },
 "nbformat": 4,
 "nbformat_minor": 5
}
