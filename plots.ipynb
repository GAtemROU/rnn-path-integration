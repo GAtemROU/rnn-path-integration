{
 "cells": [
  {
   "cell_type": "code",
   "execution_count": null,
   "id": "a4f5f5c7",
   "metadata": {},
   "outputs": [],
   "source": [
    "import pandas as pd\n",
    "from utils.plots import plot_data_distribution\n",
    "\n",
    "triangle_data = pd.read_csv('data/triangle_1000traj_50steps.csv')\n",
    "square_data = pd.read_csv('data/square_1000traj_50steps.csv')\n",
    "\n",
    "plot_data_distribution(triangle_data, ['speed', 'direction', 'x', 'y'], 'Triangle Data Distributions', 'tex/figures/triangle_data_distribution.png')\n",
    "plot_data_distribution(square_data, ['speed', 'direction', 'x', 'y'], 'Square Data Distributions', 'tex/figures/square_data_distribution.png')"
   ]
  },
  {
   "cell_type": "code",
   "execution_count": null,
   "id": "25c1e326",
   "metadata": {},
   "outputs": [],
   "source": [
    "import pickle\n",
    "from utils.plots import plot_loss_history\n",
    "env_types = ['triangle', 'square']\n",
    "for env in env_types:\n",
    "    with open(f'models/rnn_{env[0:2]}_model.pkl', 'rb') as f:\n",
    "        model = pickle.load(f)\n",
    "    loss_history = model.loss_history\n",
    "    plot_loss_history(loss_history, f'RNN {env.capitalize()} Model Loss History', f'tex/figures/rnn_{env}_model_loss_history.png')\n",
    "    "
   ]
  }
 ],
 "metadata": {
  "kernelspec": {
   "display_name": "ml2024",
   "language": "python",
   "name": "python3"
  },
  "language_info": {
   "codemirror_mode": {
    "name": "ipython",
    "version": 3
   },
   "file_extension": ".py",
   "mimetype": "text/x-python",
   "name": "python",
   "nbconvert_exporter": "python",
   "pygments_lexer": "ipython3",
   "version": "3.12.3"
  }
 },
 "nbformat": 4,
 "nbformat_minor": 5
}
